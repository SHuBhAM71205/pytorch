{
  "nbformat": 4,
  "nbformat_minor": 0,
  "metadata": {
    "colab": {
      "provenance": [],
      "toc_visible": true,
      "authorship_tag": "ABX9TyNC6cqgtq4Nikwekr1rqD8T",
      "include_colab_link": true
    },
    "kernelspec": {
      "name": "python3",
      "display_name": "Python 3"
    },
    "language_info": {
      "name": "python"
    }
  },
  "cells": [
    {
      "cell_type": "markdown",
      "metadata": {
        "id": "view-in-github",
        "colab_type": "text"
      },
      "source": [
        "<a href=\"https://colab.research.google.com/github/SHuBhAM71205/pytorch/blob/main/Fundamental.ipynb\" target=\"_parent\"><img src=\"https://colab.research.google.com/assets/colab-badge.svg\" alt=\"Open In Colab\"/></a>"
      ]
    },
    {
      "cell_type": "code",
      "execution_count": null,
      "metadata": {
        "id": "cetuDcE9xI15"
      },
      "outputs": [],
      "source": [
        "# @title imports\n",
        "\n",
        "import torch\n",
        "import pandas as pd\n",
        "import matplotlib.pyplot as plt\n",
        "import numpy as np"
      ]
    },
    {
      "cell_type": "code",
      "source": [
        "print(torch.__version__)"
      ],
      "metadata": {
        "id": "PEMU8Z1wxsDd"
      },
      "execution_count": null,
      "outputs": []
    },
    {
      "cell_type": "code",
      "source": [
        "\n",
        "## intro to tensor\n",
        "\n",
        "## scelar\n",
        "\n",
        "scelar=torch.tensor([5])\n",
        "scelar"
      ],
      "metadata": {
        "id": "YjOBMH_sx_20"
      },
      "execution_count": null,
      "outputs": []
    },
    {
      "cell_type": "code",
      "source": [
        "#vector\n",
        "\n",
        "vector=torch.tensor([1,2,3])\n",
        "vector.ndim\n",
        "vector"
      ],
      "metadata": {
        "id": "EDbxOxoNydZ6"
      },
      "execution_count": null,
      "outputs": []
    },
    {
      "cell_type": "code",
      "source": [
        "# matrix\n",
        "\n",
        "matrix=torch.tensor([[1,2,3],[4,5,6]])\n",
        "matrix\n",
        "matrix.ndim\n"
      ],
      "metadata": {
        "id": "XQ7FcTjcyupt"
      },
      "execution_count": null,
      "outputs": []
    },
    {
      "cell_type": "code",
      "source": [
        "#tensor\n",
        "\n",
        "tensor=torch.tensor([[[1,2,3],[4,5,6],[7,8,9]]])\n",
        "print(tensor.shape)\n",
        "print(tensor.ndim)\n"
      ],
      "metadata": {
        "id": "tciOgsmYy6bb"
      },
      "execution_count": null,
      "outputs": []
    },
    {
      "cell_type": "code",
      "source": [
        "# @title learn 2 random tensor\n"
      ],
      "metadata": {
        "cellView": "form",
        "id": "U0Iivy5Dy_Ht"
      },
      "execution_count": null,
      "outputs": []
    },
    {
      "cell_type": "code",
      "source": [
        "## random tensor\n",
        "\n",
        "rand_tnsr=torch.rand(5,4,6,2)\n",
        "\n",
        "print(rand_tnsr.ndim)"
      ],
      "metadata": {
        "id": "BQ_gyqwRzdrq"
      },
      "execution_count": null,
      "outputs": []
    },
    {
      "cell_type": "code",
      "source": [
        "## image random tensor\n",
        "\n",
        "img_rand_tensor=torch.rand(size=(244,244,3))\n",
        "\n"
      ],
      "metadata": {
        "id": "5Pu4H2BCz8zY"
      },
      "execution_count": null,
      "outputs": []
    },
    {
      "cell_type": "code",
      "source": [
        "# @title Zeros and Ones\n",
        "\n",
        "zeros=torch.zeros(10,10)\n",
        "print(zeros)\n",
        "\n",
        "ones=torch.ones(size=(10,10))\n"
      ],
      "metadata": {
        "id": "qu2HeDEi0OcB"
      },
      "execution_count": null,
      "outputs": []
    },
    {
      "cell_type": "code",
      "source": [
        "# @title range of tensor\n",
        "\n",
        "range_tensor=torch.arange(0,10,step=2,dtype=torch.int16)\n",
        "\n",
        "print(range_tensor)\n",
        "\n",
        "\n",
        "zero_like=torch.zeros_like(range_tensor)\n",
        "print(zero_like)"
      ],
      "metadata": {
        "id": "L6XYoXZZ0lXR"
      },
      "execution_count": null,
      "outputs": []
    },
    {
      "cell_type": "code",
      "source": [
        "# @title tensor datatypes\n",
        "# @title float 32 int"
      ],
      "metadata": {
        "id": "j2g-qH6u1CXW"
      },
      "execution_count": null,
      "outputs": []
    },
    {
      "cell_type": "markdown",
      "source": [
        "common paraneter with the torch.tensor"
      ],
      "metadata": {
        "id": "-qsaHU6X168o"
      }
    },
    {
      "cell_type": "code",
      "source": [
        "int_32_tensor=torch.tensor([1,2,3,4],dtype=torch.int32)\n",
        "float_32_tensor=torch.tensor([1,2,3,4],dtype=torch.float32)\n",
        "\n",
        "int_32_tensor * float_32_tensor\n",
        "\n",
        "## suprisingly works\n",
        "\n",
        "int_32_tensor.dtype,int_32_tensor.device,int_32_tensor.shape\n"
      ],
      "metadata": {
        "id": "tGmzcDvL2GNk"
      },
      "execution_count": null,
      "outputs": []
    },
    {
      "cell_type": "code",
      "source": [
        "# @title Formatted string printing\n",
        "\n",
        "name = \"Alice\"\n",
        "age = 30\n",
        "height = 1.75\n",
        "\n",
        "# Using f-strings for formatted output\n",
        "print(f\"My name is {name}, I am {age} years old, and my height is {height:.2f} meters.\")\n",
        "\n",
        "# You can also perform calculations within f-strings\n",
        "print(f\"In 10 years, I will be {age + 10} years old.\")\n",
        "\n",
        "# Formatting with alignment and padding\n",
        "number = 123\n",
        "print(f\"Padded number: {number:05d}\") # Pad with leading zeros to a width of 5\n",
        "\n",
        "text = \"Hello\"\n",
        "print(f\"Centered text: {text:^10}\") # Center the text within a width of 10"
      ],
      "metadata": {
        "id": "D9zTZzj021av"
      },
      "execution_count": null,
      "outputs": []
    },
    {
      "cell_type": "code",
      "source": [
        "# @title manuppilating tensor\n",
        "\n",
        "## opration + - * /\n",
        "\n",
        "\n",
        "tensorA=torch.tensor([1,2,3,4])\n",
        "\n",
        "tensorB = tensorA + 10 ## element wise 10 convert to [10,10,10,10]\n",
        "\n",
        "# same for the oth\n",
        "\n",
        "\n",
        "\n",
        "print(tensorB)"
      ],
      "metadata": {
        "id": "0zT73oYS3IHE"
      },
      "execution_count": null,
      "outputs": []
    },
    {
      "cell_type": "code",
      "source": [
        "# @title Matrix Multiplication\n",
        "\n",
        "\n",
        "# element wise and matrix\n",
        "print(tensorA * 10)\n",
        "# element wise *\n",
        "\n",
        "# in dot()\n",
        "\n",
        "print(f\"matrix multiplication : {tensorA @ tensorA}\")\n",
        "torch.matmul(tensorA,tensorA)\n"
      ],
      "metadata": {
        "id": "FS4HJLAv3vtJ"
      },
      "execution_count": null,
      "outputs": []
    },
    {
      "cell_type": "code",
      "source": [
        "# @title shape error\n",
        "\n",
        "# if the shape dont match for mul it give this error\n",
        "\n",
        "tensorA= torch.tensor([[1,2],\n",
        "                       [2,3],\n",
        "                       [3,4]])\n",
        "\n",
        "\n",
        "tensorB= torch.tensor([[7,8],\n",
        "                       [9,10],\n",
        "                       [11,12]])\n",
        "\n",
        "torch.mm(tensorA,tensorB.T) ## run fine\n",
        "# torch.mm(tensorA,tensorB) ## dont run fine 3,2 @ 3,2 give shape error\n"
      ],
      "metadata": {
        "id": "AL8Wz3Jh4r_Z"
      },
      "execution_count": null,
      "outputs": []
    },
    {
      "cell_type": "code",
      "source": [
        "# @title max min min add\n",
        "\n",
        "\n",
        "tensorA= torch.tensor([[1,2],\n",
        "                       [2,3],\n",
        "                       [3,4]])\n",
        "\n",
        "print(f\"min of th e tensorA {torch.min(tensorA)},\\nmax of tensorA {torch.max(tensorA)},\\nmin of tensorA {torch.mean(tensorA.type(torch.float32))},\\nsum of the tensorA {torch.sum(tensorA)}\")\n"
      ],
      "metadata": {
        "id": "GoollDIy5fZ4"
      },
      "execution_count": null,
      "outputs": []
    },
    {
      "cell_type": "code",
      "source": [
        "# @title arg min max for return pos"
      ],
      "metadata": {
        "id": "nPL1xhJ26VtV"
      },
      "execution_count": null,
      "outputs": []
    },
    {
      "cell_type": "markdown",
      "source": [
        "- Reshaping, stacking, squeezing and unsqueezing tensors\n",
        "- Reshaping - reshapes an input tensor to a defined shape\n",
        "- View - Return a view of an input tensor of certain shape but keep the same memory as the original tensor\n",
        "- Stacking - combine multiple tensors on top of each other (vstack) or side by side (hstack)\n",
        "- Squeeze - removes all 1 dimensions from a tensor\n",
        "- Unsqueeze - add a 1 dimension to a target tensor\n",
        "- Permute - Return a view of the input with dimensions permuted (swapped) in a certain way"
      ],
      "metadata": {
        "id": "59O26WZ_8AL1"
      }
    },
    {
      "cell_type": "code",
      "source": [
        "x=torch.arange(0,10)\n",
        "\n",
        "# add\n",
        "# reshape should have same element\n",
        "# dont change original shape of x\n",
        "print(x.reshape(2,5))\n",
        "\n",
        "# it make change in original\n",
        "print(x.view(5,2))\n",
        "\n"
      ],
      "metadata": {
        "id": "a4R4vofV7Ppq"
      },
      "execution_count": null,
      "outputs": []
    },
    {
      "cell_type": "code",
      "source": [
        "x_stacked=torch.stack([x,x,x,x],dim=1) ## dim 0 do is it scale the same val in vertical 1 scales in horizontal\n",
        "print(x_stacked)"
      ],
      "metadata": {
        "id": "1zL0GwUW8bAW"
      },
      "execution_count": null,
      "outputs": []
    },
    {
      "cell_type": "code",
      "source": [
        "# squezze or unsquese\n",
        "\n",
        "x_squeezed=x.squeeze()\n",
        "print(x_squeezed) # make it one d vector\n",
        "\n",
        "x_unsqueezed=x_squeezed.unsqueeze(dim=0\n",
        "                                  )\n",
        "print(x_unsqueezed)"
      ],
      "metadata": {
        "id": "b-r9P14V9lU0"
      },
      "execution_count": null,
      "outputs": []
    },
    {
      "cell_type": "code",
      "source": [
        "# @title indexing\n",
        "\n",
        "\n",
        "# same as numpy\n",
        "\n",
        "tensorA= torch.rand((1,3,3),dtype=torch.float32)\n",
        "print(tensorA)\n",
        "print(tensorA[0][2])\n",
        "\n",
        "print(tensorA[0,:,2])"
      ],
      "metadata": {
        "id": "ybTWjzNE-Ktj"
      },
      "execution_count": null,
      "outputs": []
    },
    {
      "cell_type": "code",
      "source": [
        "array= np.arange(1,5)\n",
        "print(array)\n",
        "\n",
        "torch_array=torch.from_numpy(array)\n",
        "print(torch_array)"
      ],
      "metadata": {
        "colab": {
          "base_uri": "https://localhost:8080/"
        },
        "id": "cRXWbWBcAwrr",
        "outputId": "9da068a6-6e40-408c-86c1-fc3e3c07990f"
      },
      "execution_count": 128,
      "outputs": [
        {
          "output_type": "stream",
          "name": "stdout",
          "text": [
            "[1 2 3 4]\n",
            "tensor([1, 2, 3, 4])\n"
          ]
        }
      ]
    },
    {
      "cell_type": "code",
      "source": [
        "# @title reproduciblity\n",
        "\n",
        "# random ou t of random\n",
        "\n",
        "torch.rand(3,3)\n",
        "\n",
        "# to reduce randomness come seed\n",
        "\n",
        "tensA=torch.rand(3,3)\n",
        "tensB=torch.rand(3,3)\n",
        "\n",
        "print(tensA)\n",
        "print(tensB)\n",
        "print(tensA==tensB)\n",
        "\n",
        "RANDOM_SEED= 42\n",
        "torch.manual_seed(RANDOM_SEED)\n",
        "\n",
        "torch_randA=torch.rand(3,3)\n",
        "\n",
        "torch.manual_seed(RANDOM_SEED)\n",
        "torch_randB=torch.rand(3,3)\n",
        "\n",
        "print(torch_randA)\n",
        "print(torch_randB)\n",
        "print(torch_randB == torch_randA)"
      ],
      "metadata": {
        "colab": {
          "base_uri": "https://localhost:8080/"
        },
        "id": "GY3OpNwpMxK0",
        "outputId": "b51ce0d6-9cd3-4a52-be31-c487d640ce7c"
      },
      "execution_count": 133,
      "outputs": [
        {
          "output_type": "stream",
          "name": "stdout",
          "text": [
            "tensor([[0.2666, 0.6274, 0.2696],\n",
            "        [0.4414, 0.2969, 0.8317],\n",
            "        [0.1053, 0.2695, 0.3588]])\n",
            "tensor([[0.1994, 0.5472, 0.0062],\n",
            "        [0.9516, 0.0753, 0.8860],\n",
            "        [0.5832, 0.3376, 0.8090]])\n",
            "tensor([[False, False, False],\n",
            "        [False, False, False],\n",
            "        [False, False, False]])\n",
            "tensor([[0.8823, 0.9150, 0.3829],\n",
            "        [0.9593, 0.3904, 0.6009],\n",
            "        [0.2566, 0.7936, 0.9408]])\n",
            "tensor([[0.8823, 0.9150, 0.3829],\n",
            "        [0.9593, 0.3904, 0.6009],\n",
            "        [0.2566, 0.7936, 0.9408]])\n",
            "tensor([[True, True, True],\n",
            "        [True, True, True],\n",
            "        [True, True, True]])\n"
          ]
        }
      ]
    },
    {
      "cell_type": "code",
      "source": [
        "# @title Running on the gpu\n",
        "\n"
      ],
      "metadata": {
        "id": "kLE-5nKBQnhT"
      },
      "execution_count": 133,
      "outputs": []
    }
  ]
}